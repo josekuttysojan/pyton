{
  "nbformat": 4,
  "nbformat_minor": 0,
  "metadata": {
    "colab": {
      "provenance": []
    },
    "kernelspec": {
      "name": "python3",
      "display_name": "Python 3"
    },
    "language_info": {
      "name": "python"
    }
  },
  "cells": [
    {
      "cell_type": "code",
      "source": [
        "import  pandas as pd\n",
        "import numpy as np"
      ],
      "metadata": {
        "id": "2i_tH_sESWzZ"
      },
      "execution_count": null,
      "outputs": []
    },
    {
      "cell_type": "code",
      "execution_count": null,
      "metadata": {
        "id": "dxYodWKpR7Pc"
      },
      "outputs": [],
      "source": [
        "def find_second_largest(numbers):\n",
        "    if len(numbers) < 2:\n",
        "        raise ValueError(\"List must contain at least two elements.\")\n",
        "    largest = second_largest = float('-inf')\n",
        "\n",
        "    for number in numbers:\n",
        "        if number > largest:\n",
        "            second_largest = largest\n",
        "            largest = number\n",
        "        elif largest > number > second_largest:\n",
        "            second_largest = number\n",
        "\n",
        "    if second_largest == float('-inf'):\n",
        "        raise ValueError(\"There is no distinct second-largest number.\")\n",
        "\n",
        "    return second_largest\n"
      ]
    },
    {
      "cell_type": "markdown",
      "source": [
        "import random\n",
        "\n",
        "def coin_toss():\n",
        "    \"\"\"Simulate a single coin toss.\"\"\"\n",
        "    return 'Heads' if random.choice([True, False]) else 'Tails'\n",
        "\n",
        "def main():\n",
        "    print(\"Welcome to the Coin Toss Simulator!\")\n",
        "    \n",
        "    while True:\n",
        "        try:\n",
        "            num_tosses = int(input(\"Enter the number of coin tosses: \"))\n",
        "            if num_tosses <= 0:\n",
        "                print(\"Please enter a positive integer.\")\n",
        "                continue\n",
        "            break\n",
        "        except ValueError:\n",
        "            print(\"Invalid input. Please enter a valid integer.\")\n",
        "    \n",
        "    results = {'Heads': 0, 'Tails': 0}\n",
        "    \n",
        "    for _ in range(num_tosses):\n",
        "        result = coin_toss()\n",
        "        results[result] += 1\n",
        "    \n",
        "    print(\"\\nResults:\")\n",
        "    print(f\"Heads: {results['Heads']}\")\n",
        "    print(f\"Tails: {results['Tails']}\")\n",
        "\n",
        "if __name__ == \"__main__\":"
      ],
      "metadata": {
        "id": "a2dyp585YK7S"
      }
    }
  ]
}